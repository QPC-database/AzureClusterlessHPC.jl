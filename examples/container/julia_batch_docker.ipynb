{
 "cells": [
  {
   "cell_type": "markdown",
   "metadata": {},
   "source": [
    "# Running AzureClusterlessHPC with Docker"
   ]
  },
  {
   "cell_type": "markdown",
   "metadata": {},
   "source": [
    "This tutorial demonstrates how to run workloads with AzureClusterlessHPC using Azure Batch's container support. Instead of creating a deployment package for a VM image, we create a Docker container for the AzureClusterlessHPC runtime that is used by Azure Batch.\n",
    "\n",
    "**Note:** This is different from running our local notebook from a Docker container. For instructions how to run your application from a Docker container, refer to the AzureClusterlessHPC documentation.\n"
   ]
  },
  {
   "cell_type": "markdown",
   "metadata": {},
   "source": [
    "## Prepare Docker image\n",
    "\n",
    "The first step is to create a container. The directory contains an example Dockerfile from which we can create an image as follows. From the command line, run:\n",
    "\n",
    "```\n",
    "Build local Docker image\n",
    "docker build -t azureclusterlesshpc:v1.0 .\n",
    "```\n",
    "\n",
    "Once the image has been created, you can upload the image to your own image repository from where it will be downloaded from Azure Batch. First, log into your Docker account and then tag and upload the image. This step is optional for this tutorial,  as the example will use a public image that has already been created.\n",
    "\n",
    "```\n",
    "# Login\n",
    "docker login\n",
    "\n",
    "# Tag and push\n",
    "docker tag azureclusterlesshpc:v1.0 username/azureclusterlesshpc:v1.0\n",
    "docker push username/azureclusterlesshpc:v1.0\n",
    "```\n",
    "\n",
    "To specify a Docker image to use with AzureClusterlessHPC, add the environment variable `\"_CONTAINER\"` to the `parameters.json` file. For example, in the current example, we set `\"_CONTAINER\": \"philippwitte/azureclusterlesshpc:v1.1\"`. You must also supply the paths to the Julia and Python package directories. E.g., in our Dockerfile, we installed Julia into `/root`, so in our `parameters.json`, we set:\n",
    "\n",
    "```\n",
    "\"_JULIA_DEPOT_PATH\": \"/root/.julia\",\n",
    "\"_PYTHONPATH\": \"/usr/local/lib/python3.8/dist-packages\"\n",
    "```"
   ]
  },
  {
   "cell_type": "markdown",
   "metadata": {},
   "source": [
    "## AzureClusterlessHPC example using Docker\n",
    "\n",
    "As always, we start by setting the environment variables that point to our credentials and our `parameters.json` file:"
   ]
  },
  {
   "cell_type": "code",
   "execution_count": 1,
   "metadata": {},
   "outputs": [],
   "source": [
    "# Set path to credentials\n",
    "ENV[\"CREDENTIALS\"] = joinpath(pwd(), \"../..\", \"credentials.json\")\n",
    "\n",
    "# Set path to batch parameters (pool id, VM types, etc.)\n",
    "ENV[\"PARAMETERS\"] = joinpath(pwd(), \"parameters.json\")\n",
    "\n",
    "# Load package\n",
    "using AzureClusterlessHPC\n",
    "batch_clear();"
   ]
  },
  {
   "cell_type": "markdown",
   "metadata": {},
   "source": [
    "Next, we create the batch pool. Unlike before, we do not have to supply a start-up script or image ID for the VM, as we're running the AzureClusterlessHPC runtime from the Docker image that we created earlier. To speed-up the execution of tasks, Docker images are installed on VMs when they join the pool, not when a job or task is created."
   ]
  },
  {
   "cell_type": "code",
   "execution_count": 2,
   "metadata": {},
   "outputs": [
    {
     "name": "stdout",
     "output_type": "stream",
     "text": [
      "Created pool 1 of 1 in canadacentral with 2 nodes.\n"
     ]
    }
   ],
   "source": [
    "# Create pool of VMs with pre-installed Docker images.\n",
    "create_pool();"
   ]
  },
  {
   "cell_type": "markdown",
   "metadata": {},
   "source": [
    "We define a simple hello world function to execute via Azure Batch:"
   ]
  },
  {
   "cell_type": "code",
   "execution_count": 3,
   "metadata": {},
   "outputs": [],
   "source": [
    "# Hello world example\n",
    "@batchdef function hello_world(name)\n",
    "    print(\"Hello $name\\n\")\n",
    "    return \"Goodbye\"\n",
    "end;"
   ]
  },
  {
   "cell_type": "markdown",
   "metadata": {},
   "source": [
    "We execute the function in parallel on two workers, using the `@batchexex` macro and `pmap`:"
   ]
  },
  {
   "cell_type": "code",
   "execution_count": 4,
   "metadata": {},
   "outputs": [
    {
     "name": "stdout",
     "output_type": "stream",
     "text": [
      "  3.862028 seconds (3.52 M allocations: 210.372 MiB, 2.22% gc time, 24.82% compilation time)\n"
     ]
    }
   ],
   "source": [
    "# Execute function via Azure Batch\n",
    "bctrl = @batchexec pmap(name -> hello_world(name), [\"Jane\", \"Bob\"]);"
   ]
  },
  {
   "cell_type": "markdown",
   "metadata": {},
   "source": [
    "We then fetch the function output from the two workers and print it:"
   ]
  },
  {
   "cell_type": "code",
   "execution_count": 5,
   "metadata": {},
   "outputs": [
    {
     "name": "stdout",
     "output_type": "stream",
     "text": [
      "Monitoring tasks for 'Completed' state, timeout in 60 minutes ...Creating job [BatchJob_bv3M5W4k_1]...\n",
      "Uploading file /home/pwitte/.julia/dev/AzureClusterlessHPC/src/runtime/application-cmd to blob container [azureclusterlesstemp]...\n",
      "Uploading file /home/pwitte/.julia/dev/AzureClusterlessHPC/src/runtime/batch_runtime.jl to blob container [azureclusterlesstemp]...\n",
      "Uploading file task_1.dat to container [azureclusterlesstemp]...\n",
      "Uploading file task_2.dat to container [azureclusterlesstemp]...\n",
      "..................................................................................................................\n",
      "Fetch output from task task_2................................\n",
      "Fetch output from task task_1\n",
      "Any[\"Goodbye\", \"Goodbye\"]"
     ]
    }
   ],
   "source": [
    "output = fetch(bctrl)\n",
    "print(output);"
   ]
  },
  {
   "cell_type": "markdown",
   "metadata": {},
   "source": [
    "Finally, we clean up all consumed Azure resources:"
   ]
  },
  {
   "cell_type": "code",
   "execution_count": 6,
   "metadata": {},
   "outputs": [],
   "source": [
    "destroy!(bctrl);"
   ]
  },
  {
   "cell_type": "markdown",
   "metadata": {},
   "source": [
    "## Copyright\n",
    "\n",
    "Copyright (c) Microsoft Corporation. All rights reserved.\n",
    "\n",
    "Licensed under the MIT License (MIT). See LICENSE in the repo root for license information."
   ]
  }
 ],
 "metadata": {
  "kernelspec": {
   "display_name": "Julia 1.6.1",
   "language": "julia",
   "name": "julia-1.6"
  },
  "language_info": {
   "file_extension": ".jl",
   "mimetype": "application/julia",
   "name": "julia",
   "version": "1.6.1"
  }
 },
 "nbformat": 4,
 "nbformat_minor": 4
}
