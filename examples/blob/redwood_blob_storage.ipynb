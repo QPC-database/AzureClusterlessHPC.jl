{
 "cells": [
  {
   "cell_type": "markdown",
   "metadata": {},
   "source": [
    "#  Using Azure Blob Storage with AzureClusterlessHPC"
   ]
  },
  {
   "cell_type": "markdown",
   "metadata": {},
   "source": [
    "This notebook demonstrates how to interact with Azure Blob storage when executing a remote function via AzureClusterlessHPC.\n",
    "\n",
    "We start with loading AzureClusterlessHPC and creating a pool. Notice that in the pool startup script, we have to install pip3 and the Python SDKs for blob and queue storage (see \"pool_startup_script.sh\" for details)."
   ]
  },
  {
   "cell_type": "code",
   "execution_count": 1,
   "metadata": {},
   "outputs": [],
   "source": [
    "# Install required Julia packages\n",
    "using Pkg\n",
    "Pkg.add(\"PyCall\")\n",
    "\n",
    "# Set path to credentials\n",
    "ENV[\"CREDENTIALS\"] = joinpath(pwd(), \"credentials.json\")\n",
    "\n",
    "# Set path to batch parameters (pool id, VM types, etc.)\n",
    "ENV[\"PARAMETERS\"] = joinpath(pwd(), \"parameters.json\")\n",
    "\n",
    "# Load package\n",
    "using AzureClusterlessHPC;"
   ]
  },
  {
   "cell_type": "code",
   "execution_count": 2,
   "metadata": {},
   "outputs": [
    {
     "name": "stdout",
     "output_type": "stream",
     "text": [
      "Pool 1 of 1 in canadacentral already exists.\n"
     ]
    }
   ],
   "source": [
    "# Create pool\n",
    "startup_script = \"pool_startup_script.sh\"\n",
    "create_pool_and_resource_file(startup_script);"
   ]
  },
  {
   "cell_type": "markdown",
   "metadata": {},
   "source": [
    "Next, we load PyCall and the blob storage module:"
   ]
  },
  {
   "cell_type": "code",
   "execution_count": 3,
   "metadata": {},
   "outputs": [],
   "source": [
    "@batchdef using PyCall\n",
    "@batchdef azureblob = pyimport(\"azure.storage.blob\");"
   ]
  },
  {
   "cell_type": "markdown",
   "metadata": {},
   "source": [
    "Then we define our function that we execute remotely through Azure Batch. Within the function, we create an Azure Blob client using the Blob Python SDK. The blob client can be used to create new blobs or download blobs from an account. In our example function, we simply list the current containers in our storage account. (Before running this cell, fill in your storage credentials for the account that you want to use.)"
   ]
  },
  {
   "cell_type": "code",
   "execution_count": 4,
   "metadata": {},
   "outputs": [],
   "source": [
    "@batchdef function hello_world()\n",
    "    \n",
    "    # Create blob client\n",
    "    blob_client = azureblob.BlockBlobService(\n",
    "        account_name = \"storageaccountname\",\n",
    "        account_key = \"xxxxxxxxxxxxxxxxxxxxxxxxxxxxxxxxxxxxx\"\n",
    "    )\n",
    "\n",
    "    # List current containers\n",
    "    output = blob_client.list_containers().items\n",
    "    print(output)\n",
    "    \n",
    "    return output\n",
    "end;"
   ]
  },
  {
   "cell_type": "markdown",
   "metadata": {},
   "source": [
    "We execute the function remotely using the @batchexec macro:"
   ]
  },
  {
   "cell_type": "code",
   "execution_count": 5,
   "metadata": {},
   "outputs": [],
   "source": [
    "bctrl = @batchexec hello_world();"
   ]
  },
  {
   "cell_type": "code",
   "execution_count": 6,
   "metadata": {},
   "outputs": [
    {
     "name": "stdout",
     "output_type": "stream",
     "text": [
      "Monitoring tasks for 'Completed' state, timeout in 60 minutes ...Creating job [BatchJob_5Ztj47jz_1]...\n",
      "Uploading file /home/pwitte/.julia/dev/AzureClusterlessHPC/src/runtime/application-cmd to blob container [azureclusterlesstemp]...\n",
      "Uploading file /home/pwitte/.julia/dev/AzureClusterlessHPC/src/runtime/batch_runtime.jl to blob container [azureclusterlesstemp]...\n",
      "Uploading file packages.dat to container [azureclusterlesstemp]...\n",
      "Uploading file task_1.dat to container [azureclusterlesstemp]...\n",
      "..\n",
      "Fetch output from task task_1\n",
      "PyObject[PyObject <azure.storage.blob.models.Container object at 0x7f926bd267f0>, PyObject <azure.storage.blob.models.Container object at 0x7f926bd26828>, PyObject <azure.storage.blob.models.Container object at 0x7f9276abf908>, PyObject <azure.storage.blob.models.Container object at 0x7f9276abf860>, PyObject <azure.storage.blob.models.Container object at 0x7f9276ad9a90>, PyObject <azure.storage.blob.models.Container object at 0x7f926bd26710>, PyObject <azure.storage.blob.models.Container object at 0x7f9276ad9b00>, PyObject <azure.storage.blob.models.Container object at 0x7f926bcb5d68>, PyObject <azure.storage.blob.models.Container object at 0x7f926bcb5c88>]"
     ]
    }
   ],
   "source": [
    "output = fetch(bctrl)\n",
    "print(output);"
   ]
  },
  {
   "cell_type": "markdown",
   "metadata": {},
   "source": [
    "Clean up resources:"
   ]
  },
  {
   "cell_type": "code",
   "execution_count": 7,
   "metadata": {},
   "outputs": [],
   "source": [
    "destroy!(bctrl);"
   ]
  },
  {
   "cell_type": "markdown",
   "metadata": {},
   "source": [
    "# Copyright\n",
    "\n",
    "Copyright (c) Microsoft Corporation. All rights reserved.\n",
    "\n",
    "Licensed under the MIT License (MIT). See LICENSE in the repo root for license information."
   ]
  }
 ],
 "metadata": {
  "kernelspec": {
   "display_name": "Julia 1.6.1",
   "language": "julia",
   "name": "julia-1.6"
  },
  "language_info": {
   "file_extension": ".jl",
   "mimetype": "application/julia",
   "name": "julia",
   "version": "1.6.1"
  }
 },
 "nbformat": 4,
 "nbformat_minor": 4
}